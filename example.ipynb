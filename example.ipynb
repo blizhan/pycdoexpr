{
 "cells": [
  {
   "cell_type": "code",
   "execution_count": 3,
   "metadata": {},
   "outputs": [
    {
     "data": {
      "text/plain": [
       "\"cdo -expr,'WIND_LEVEL=((WIND>=61.3))? 18:(((WIND>=56.0))? 17:(((WIND>=50.9))? 16:(((WIND>=46.1))? 15:(((WIND>=41.4))? 14:(((WIND>=36.9))? 13:(((WIND>=32.6))? 12:(((WIND>=28.5))? 11:(((WIND>=24.5))? 10:(((WIND>=20.8))? 9:(((WIND>=17.2))? 8:(((WIND>=13.9))? 7:(((WIND>=10.8))? 6:(((WIND>=8.0))? 5:(((WIND>=5.5))? 4:(((WIND>=3.4))? 3:(((WIND>=1.6))? 2:(((WIND>=0.3))? 1:0)))))))))))))))))' infile outfile\""
      ]
     },
     "execution_count": 3,
     "metadata": {},
     "output_type": "execute_result"
    }
   ],
   "source": [
    "from pycdoexpr import cdoexpr\n",
    "\n",
    "# generate cdo map wind level expr (https://www.jodc.go.jp/data_format/weather-code.html)\n",
    "cexpr = cdoexpr()\n",
    "wind_level_bins = [ 0.3,  1.6,  3.4,  5.5,  8. , 10.8, 13.9, 17.2,\\\n",
    "    20.8, 24.5, 28.5, 32.6, 36.9, 41.4, 46.1, 50.9, 56. , 61.3]\n",
    "wind_level = range(0,len(wind_level_bins)+1)\n",
    "expr = cexpr.digitize('WIND', wind_level_bins, wind_level, right=False)\n",
    "f\"cdo -expr,'WIND_LEVEL={expr}' infile outfile\"\n"
   ]
  },
  {
   "cell_type": "code",
   "execution_count": 4,
   "metadata": {},
   "outputs": [
    {
     "name": "stdout",
     "output_type": "stream",
     "text": [
      "\n",
      "                                                                        _________________________________________________________________________________________PRE1H > 0.001____________________________________________\n",
      "                                                                       /                                                                                                                                                  \\\n",
      "               ___________________________________________________TEM2 >= 3_______________________________                                                                                 ___________________________VIS > 10000_________________________________________________\n",
      "              /                                                                                           \\                                                                               /                                                                                       \\\n",
      "     ___PRE1H < 0.1_____________                                                           _____________TEM2 >=0_____________                                                      ___TCC > 80__________                                        ______________________________VIS >= 1000___________\n",
      "    /                           \\                                                         /                                  \\                                                    /                     \\                                      /                                                    \\\n",
      "WW = 51                  ___PRE1H < 2.5____________                              ___PRE1H < 2.5___                    ___PRE1H < 0.1_____________                              WW = 3              ___TCC > 40__                       ___RHU2 > 80____________                                ___WS10 < 1____________\n",
      "                        /                          \\                            /                 \\                  /                           \\                                                /             \\                     /                        \\                              /                       \\\n",
      "                    WW = 61                  ___PRE1H < 8___                WW = 66             WW = 67          WW = 71                  ___PRE1H < 0.2___                                    WW = 2          WW = 0             WW = 45                ___RHU2 > 50___                  WW = 45               ___RHU2 >=50___\n",
      "                                            /               \\                                                                            /                 \\                                                                                            /               \\                                      /               \\\n",
      "                                        WW = 62           WW = 63                                                                    WW = 73             WW = 75                                                                                    WW = 48           WW = 31                              WW = 45           WW = 34\n",
      "\n"
     ]
    },
    {
     "data": {
      "text/plain": [
       "\"cdo expr,'WW=((PRE1H > 0.001))? (((TEM2 >= 3))? (((PRE1H < 0.1))? ( 51): (((PRE1H < 2.5))? ( 61): (((PRE1H < 8))? ( 62): ( 63)))): (((TEM2 >=0))? (((PRE1H < 2.5))? ( 66): ( 67)): (((PRE1H < 0.1))? ( 71): (((PRE1H < 0.2))? ( 73): ( 75))))): (((VIS > 10000))? (((TCC > 80))? ( 3): (((TCC > 40))? ( 2): ( 0))): (((VIS >= 1000))? (((RHU2 > 80))? ( 45): (((RHU2 > 50))? ( 48): ( 31))): (((WS10 < 1))? ( 45): (((RHU2 >=50))? ( 45): ( 34)))))' infile outfile\""
      ]
     },
     "execution_count": 4,
     "metadata": {},
     "output_type": "execute_result"
    }
   ],
   "source": [
    "s = '''\n",
    "if PRE1H > 0.001:\n",
    "    if TEM2 >= 3:\n",
    "        if PRE1H < 0.1:\n",
    "            WW = 51\n",
    "        elif PRE1H < 2.5:\n",
    "            WW = 61\n",
    "        elif PRE1H < 8:\n",
    "            WW = 62\n",
    "        else:\n",
    "            WW = 63\n",
    "    elif TEM2 >=0:\n",
    "        if PRE1H < 2.5:\n",
    "            WW = 66\n",
    "        else:\n",
    "            WW = 67\n",
    "    else:\n",
    "        if PRE1H < 0.1:\n",
    "            WW = 71\n",
    "        elif PRE1H < 0.2:\n",
    "            WW = 73\n",
    "        else:\n",
    "            WW = 75\n",
    "else:\n",
    "    if VIS > 10000:\n",
    "        if TCC > 80:\n",
    "            WW = 3\n",
    "        elif TCC > 40:\n",
    "            WW = 2\n",
    "        else:\n",
    "            WW = 0\n",
    "    elif VIS >= 1000:\n",
    "        if RHU2 > 80:\n",
    "            WW = 45\n",
    "        elif RHU2 > 50:\n",
    "            WW = 48\n",
    "        else:\n",
    "            WW = 31\n",
    "    else:\n",
    "        if WS10 < 1:\n",
    "            WW = 45\n",
    "        else:\n",
    "            if RHU2 >=50:\n",
    "                WW = 45\n",
    "            else:\n",
    "                WW = 34\n",
    "'''\n",
    "expr = cexpr.conditions(s, verbose=True)\n",
    "f\"cdo expr,'WW={expr}' infile outfile\"\n"
   ]
  }
 ],
 "metadata": {
  "interpreter": {
   "hash": "0d37fb675408f2ad976ccac53271729d7bf171f6b6351508f41e3cfc1d2f1a89"
  },
  "kernelspec": {
   "display_name": "Python 3.10.4 64-bit ('maesters')",
   "language": "python",
   "name": "python3"
  },
  "language_info": {
   "codemirror_mode": {
    "name": "ipython",
    "version": 3
   },
   "file_extension": ".py",
   "mimetype": "text/x-python",
   "name": "python",
   "nbconvert_exporter": "python",
   "pygments_lexer": "ipython3",
   "version": "3.10.4"
  },
  "orig_nbformat": 4
 },
 "nbformat": 4,
 "nbformat_minor": 2
}
