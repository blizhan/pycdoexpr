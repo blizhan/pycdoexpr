{
 "cells": [
  {
   "cell_type": "code",
   "execution_count": 1,
   "metadata": {},
   "outputs": [
    {
     "data": {
      "text/plain": [
       "'cdo -expr WIND_LEVEL=((WIND>=61.3))? 18:(((WIND>=56.0))? 17:(((WIND>=50.9))? 16:(((WIND>=46.1))? 15:(((WIND>=41.4))? 14:(((WIND>=36.9))? 13:(((WIND>=32.6))? 12:(((WIND>=28.5))? 11:(((WIND>=24.5))? 10:(((WIND>=20.8))? 9:(((WIND>=17.2))? 8:(((WIND>=13.9))? 7:(((WIND>=10.8))? 6:(((WIND>=8.0))? 5:(((WIND>=5.5))? 4:(((WIND>=3.4))? 3:(((WIND>=1.6))? 2:(((WIND>=0.3))? 1:0))))))))))))))))) infile outfile'"
      ]
     },
     "execution_count": 1,
     "metadata": {},
     "output_type": "execute_result"
    }
   ],
   "source": [
    "from pycdoexpr import cdoexpr\n",
    "\n",
    "# generate cdo map wind level expr\n",
    "cexpr = cdoexpr()\n",
    "wind_level_bins = [ 0.3,  1.6,  3.4,  5.5,  8. , 10.8, 13.9, 17.2,\\\n",
    "    20.8, 24.5, 28.5, 32.6, 36.9, 41.4, 46.1, 50.9, 56. , 61.3]\n",
    "wind_level = range(0,len(wind_level_bins)+1)\n",
    "expr = cexpr.digitize('WIND', wind_level_bins, wind_level, right=False)\n",
    "f\"cdo -expr WIND_LEVEL={expr} infile outfile\"\n"
   ]
  },
  {
   "cell_type": "code",
   "execution_count": null,
   "metadata": {},
   "outputs": [],
   "source": []
  }
 ],
 "metadata": {
  "interpreter": {
   "hash": "0d37fb675408f2ad976ccac53271729d7bf171f6b6351508f41e3cfc1d2f1a89"
  },
  "kernelspec": {
   "display_name": "Python 3.10.4 64-bit ('maesters')",
   "language": "python",
   "name": "python3"
  },
  "language_info": {
   "codemirror_mode": {
    "name": "ipython",
    "version": 3
   },
   "file_extension": ".py",
   "mimetype": "text/x-python",
   "name": "python",
   "nbconvert_exporter": "python",
   "pygments_lexer": "ipython3",
   "version": "3.10.4"
  },
  "orig_nbformat": 4
 },
 "nbformat": 4,
 "nbformat_minor": 2
}
